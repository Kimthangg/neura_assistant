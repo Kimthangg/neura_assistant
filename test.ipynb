{
 "cells": [
  {
   "cell_type": "code",
   "execution_count": 1,
   "id": "d50df4f0",
   "metadata": {},
   "outputs": [
    {
     "name": "stderr",
     "output_type": "stream",
     "text": [
      "c:\\Users\\KIM THANG\\anaconda3\\envs\\vertexAI\\Lib\\site-packages\\tqdm\\auto.py:21: TqdmWarning: IProgress not found. Please update jupyter and ipywidgets. See https://ipywidgets.readthedocs.io/en/stable/user_install.html\n",
      "  from .autonotebook import tqdm as notebook_tqdm\n"
     ]
    },
    {
     "name": "stdout",
     "output_type": "stream",
     "text": [
      "Using device: cpu\n",
      "Using API key number: 4 for model gemini-2.0-flash\n"
     ]
    }
   ],
   "source": [
    "from services.llm.llm_config import LLM\n",
    "from features.schedule_features.tools import tool_scheduler, system_prompt_scheduler\n",
    "test = LLM(system_prompt_scheduler, tool_scheduler)"
   ]
  },
  {
   "cell_type": "code",
   "execution_count": 2,
   "id": "6def86f3",
   "metadata": {},
   "outputs": [
    {
     "data": {
      "text/plain": [
       "{'time': {'minute': 0, 'hour': 8},\n",
       " 'task_name': \"Yêu cầu của người dùng: 'xem có mail nào mới không'\"}"
      ]
     },
     "execution_count": 2,
     "metadata": {},
     "output_type": "execute_result"
    }
   ],
   "source": [
    "test('Tự động xem có mail nào mới không vào mỗi 8h hàng ngày')\n",
    "# test('Đặt lịch tổng hợp các sự kiện cần tham gia trong tuần tới vào 18h chủ nhật hàng tuần')\n"
   ]
  }
 ],
 "metadata": {
  "kernelspec": {
   "display_name": "vertexAI",
   "language": "python",
   "name": "python3"
  },
  "language_info": {
   "codemirror_mode": {
    "name": "ipython",
    "version": 3
   },
   "file_extension": ".py",
   "mimetype": "text/x-python",
   "name": "python",
   "nbconvert_exporter": "python",
   "pygments_lexer": "ipython3",
   "version": "3.11.11"
  }
 },
 "nbformat": 4,
 "nbformat_minor": 5
}
